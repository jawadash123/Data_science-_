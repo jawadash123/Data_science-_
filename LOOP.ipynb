{
 "cells": [
  {
   "cell_type": "code",
   "execution_count": 13,
   "id": "fae5c471",
   "metadata": {},
   "outputs": [
    {
     "name": "stdout",
     "output_type": "stream",
     "text": [
      "*   \n",
      "**  \n",
      "*** \n",
      "****\n"
     ]
    }
   ],
   "source": [
    "for i in range(1,5):\n",
    "    for j  in range(1,5):\n",
    "        if j <= i:\n",
    "            print(\"*\",end='')\n",
    "        else:\n",
    "            print(\" \",end='')\n",
    "    print()"
   ]
  },
  {
   "cell_type": "code",
   "execution_count": 212,
   "id": "a9520bd0",
   "metadata": {},
   "outputs": [
    {
     "name": "stdout",
     "output_type": "stream",
     "text": [
      "   *\n",
      "  **\n",
      " ***\n",
      "****\n"
     ]
    }
   ],
   "source": [
    "for i in range(1,5):\n",
    "    for j  in range(1,5):\n",
    "        if j >= 5 - i:\n",
    "            print(\"*\",end='')\n",
    "        else:\n",
    "            print(\" \",end='')\n",
    "    print()"
   ]
  },
  {
   "cell_type": "code",
   "execution_count": 196,
   "id": "28645fbd",
   "metadata": {},
   "outputs": [
    {
     "name": "stdout",
     "output_type": "stream",
     "text": [
      "****\n",
      "*** \n",
      "**  \n",
      "*   \n"
     ]
    }
   ],
   "source": [
    " for i in range(1,5):\n",
    "    for j  in range(1,5):\n",
    "        if j <= 5 - i :\n",
    "            print(\"*\",end='')\n",
    "        else:\n",
    "            print(\" \",end='')\n",
    "    print()"
   ]
  },
  {
   "cell_type": "code",
   "execution_count": 198,
   "id": "1aade708",
   "metadata": {},
   "outputs": [
    {
     "name": "stdout",
     "output_type": "stream",
     "text": [
      "****\n",
      " ***\n",
      "  **\n",
      "   *\n"
     ]
    }
   ],
   "source": [
    " for i in range(1,5):\n",
    "    for j  in range(1,5):\n",
    "        if j >= i :\n",
    "            print(\"*\",end='')\n",
    "        else:\n",
    "            print(\" \",end='')\n",
    "    print()"
   ]
  },
  {
   "cell_type": "code",
   "execution_count": 200,
   "id": "ad3e36ac",
   "metadata": {},
   "outputs": [
    {
     "name": "stdout",
     "output_type": "stream",
     "text": [
      "   *   \n",
      "  ***  \n",
      " ***** \n",
      "*******\n"
     ]
    }
   ],
   "source": [
    " for i in range(1,5):\n",
    "    for j  in range(1,8):\n",
    "        if j>=5-i and j<=3+i:\n",
    "            print(\"*\",end='')\n",
    "        else:\n",
    "            print(\" \",end='')\n",
    "    print() "
   ]
  },
  {
   "cell_type": "code",
   "execution_count": 201,
   "id": "bf7d601e",
   "metadata": {},
   "outputs": [
    {
     "name": "stdout",
     "output_type": "stream",
     "text": [
      "*******\n",
      " ***** \n",
      "  ***  \n",
      "   *   \n"
     ]
    }
   ],
   "source": [
    "for i in range(1,5):\n",
    "    for j  in range(1,8):\n",
    "        if j>=i and j<=8-i:\n",
    "            print(\"*\",end='')\n",
    "        else:\n",
    "            print(\" \",end='')\n",
    "    print() "
   ]
  },
  {
   "cell_type": "code",
   "execution_count": 4,
   "id": "1cfc0a27",
   "metadata": {},
   "outputs": [
    {
     "name": "stdout",
     "output_type": "stream",
     "text": [
      "       \n",
      "      **\n",
      "     ****\n",
      "    ******\n",
      "   ********\n",
      "  **********\n"
     ]
    }
   ],
   "source": [
    "#For Loop\n",
    "n = 6\n",
    "for i in range(n):\n",
    "    print(' '*(n-i), '*'*(i*2), end=\"\")\n",
    "    print()\n"
   ]
  },
  {
   "cell_type": "code",
   "execution_count": 3,
   "id": "03cef25a",
   "metadata": {},
   "outputs": [
    {
     "name": "stdout",
     "output_type": "stream",
     "text": [
      "1   \n",
      "12  \n",
      "123 \n",
      "1234\n"
     ]
    }
   ],
   "source": [
    "for i in range(1,5):\n",
    "    for j  in range(1,5):\n",
    "        if j<=i:\n",
    "            print(j,end='')\n",
    "        else:\n",
    "            print(\" \",end='')\n",
    "    print() "
   ]
  },
  {
   "cell_type": "code",
   "execution_count": 208,
   "id": "a62d937d",
   "metadata": {},
   "outputs": [
    {
     "name": "stdout",
     "output_type": "stream",
     "text": [
      "5432\n",
      "432 \n",
      "32  \n",
      "2   \n"
     ]
    }
   ],
   "source": [
    "for i in range(1,5):\n",
    "    k=6-i\n",
    "    for j  in range(1,5):\n",
    "        if j<=5-i:\n",
    "            print(k,end='')\n",
    "            k-=1\n",
    "        else:\n",
    "            print(\" \",end='')\n",
    "    print() "
   ]
  },
  {
   "cell_type": "code",
   "execution_count": 5,
   "id": "296707f1",
   "metadata": {},
   "outputs": [
    {
     "name": "stdout",
     "output_type": "stream",
     "text": [
      "    *\n",
      "   ***\n",
      "  *****\n",
      " *******\n",
      "*********\n",
      " *******\n",
      "  *****\n",
      "   ***\n",
      "    *\n"
     ]
    }
   ],
   "source": [
    "n = 5 #\n",
    "\n",
    "# Upper half of the diamond\n",
    "for i in range(n):\n",
    "    for j in range(n - i - 1):\n",
    "        print(\" \", end='')\n",
    "    for k in range(2 * i + 1):\n",
    "        print(\"*\", end='')\n",
    "    print()\n",
    "\n",
    "# Lower half of the diamond\n",
    "for i in range(n - 2, -1, -1):\n",
    "    for j in range(n - i - 1):\n",
    "        print(\" \", end='')\n",
    "    for k in range(2 * i + 1):\n",
    "        print(\"*\", end='')\n",
    "    print()\n"
   ]
  },
  {
   "cell_type": "code",
   "execution_count": 6,
   "id": "a8dffb96",
   "metadata": {},
   "outputs": [
    {
     "name": "stdout",
     "output_type": "stream",
     "text": [
      "*   \n",
      "**  \n",
      "*** \n",
      "****\n"
     ]
    }
   ],
   "source": [
    "#while Loop\n",
    "i = 1\n",
    "while i < 5:\n",
    "    j = 1\n",
    "    while j < 5:\n",
    "        if j <= i:\n",
    "            print(\"*\", end='')\n",
    "        else:\n",
    "            print(\" \", end='')\n",
    "        j += 1\n",
    "    print()\n",
    "    i += 1\n"
   ]
  },
  {
   "cell_type": "code",
   "execution_count": 7,
   "id": "5898bebf",
   "metadata": {},
   "outputs": [
    {
     "name": "stdout",
     "output_type": "stream",
     "text": [
      "****\n",
      " ***\n",
      "  **\n",
      "   *\n"
     ]
    }
   ],
   "source": [
    "i = 1\n",
    "while i < 5:\n",
    "    j = 1\n",
    "    while j < 5:\n",
    "        if j >= i:\n",
    "            print(\"*\", end='')\n",
    "        else:\n",
    "            print(\" \", end='')\n",
    "        j += 1\n",
    "    print()\n",
    "    i += 1"
   ]
  },
  {
   "cell_type": "code",
   "execution_count": 8,
   "id": "60ae6c61",
   "metadata": {},
   "outputs": [
    {
     "name": "stdout",
     "output_type": "stream",
     "text": [
      "****\n",
      "*** \n",
      "**  \n",
      "*   \n"
     ]
    }
   ],
   "source": [
    "i = 1\n",
    "while i < 5:\n",
    "    j = 1\n",
    "    while j < 5:\n",
    "        if j <=5-i:\n",
    "            print(\"*\", end='')\n",
    "        else:\n",
    "            print(\" \", end='')\n",
    "        j += 1\n",
    "    print()\n",
    "    i += 1"
   ]
  },
  {
   "cell_type": "code",
   "execution_count": 9,
   "id": "a14a5212",
   "metadata": {},
   "outputs": [
    {
     "name": "stdout",
     "output_type": "stream",
     "text": [
      "   *\n",
      "  **\n",
      " ***\n",
      "****\n"
     ]
    }
   ],
   "source": [
    "i = 1\n",
    "while i < 5:\n",
    "    j = 1\n",
    "    while j < 5:\n",
    "        if j >=5-i:\n",
    "            print(\"*\", end='')\n",
    "        else:\n",
    "            print(\" \", end='')\n",
    "        j += 1\n",
    "    print()\n",
    "    i += 1"
   ]
  },
  {
   "cell_type": "code",
   "execution_count": 10,
   "id": "80bdd6f5",
   "metadata": {},
   "outputs": [
    {
     "name": "stdout",
     "output_type": "stream",
     "text": [
      "   *   \n",
      "  ***  \n",
      " ***** \n",
      "*******\n"
     ]
    }
   ],
   "source": [
    "i = 1\n",
    "while i < 5:\n",
    "    j = 1\n",
    "    while j < 8:\n",
    "        if j >= 5 - i and j <= 3 + i:\n",
    "            print(\"*\", end='')\n",
    "        else:\n",
    "            print(\" \", end='')\n",
    "        j += 1\n",
    "    print()\n",
    "    i += 1\n"
   ]
  },
  {
   "cell_type": "code",
   "execution_count": 11,
   "id": "07d9cda0",
   "metadata": {},
   "outputs": [
    {
     "name": "stdout",
     "output_type": "stream",
     "text": [
      "*******\n",
      " ***** \n",
      "  ***  \n",
      "   *   \n"
     ]
    }
   ],
   "source": [
    "i = 1\n",
    "while i < 5:\n",
    "    j = 1\n",
    "    while j < 8:\n",
    "        if j >= i and j <= 8 - i:\n",
    "            print(\"*\", end='')\n",
    "        else:\n",
    "            print(\" \", end='')\n",
    "        j += 1\n",
    "    print()\n",
    "    i += 1\n"
   ]
  },
  {
   "cell_type": "code",
   "execution_count": 12,
   "id": "aba14445",
   "metadata": {},
   "outputs": [
    {
     "name": "stdout",
     "output_type": "stream",
     "text": [
      "    *\n",
      "   ***\n",
      "  *****\n",
      " *******\n",
      "*********\n",
      " *******\n",
      "  *****\n",
      "   ***\n",
      "    *\n"
     ]
    }
   ],
   "source": [
    "n = 5  \n",
    "\n",
    "# Upper half of the diamond\n",
    "i = 0\n",
    "while i < n:\n",
    "    j = 0\n",
    "    while j < n - i - 1:\n",
    "        print(\" \", end='')\n",
    "        j += 1\n",
    "    k = 0\n",
    "    while k < 2 * i + 1:\n",
    "        print(\"*\", end='')\n",
    "        k += 1\n",
    "    print()\n",
    "    i += 1\n",
    "\n",
    "# Lower half of the diamond\n",
    "i = n - 2\n",
    "while i >= 0:\n",
    "    j = 0\n",
    "    while j < n - i - 1:\n",
    "        print(\" \", end='')\n",
    "        j += 1\n",
    "    k = 0\n",
    "    while k < 2 * i + 1:\n",
    "        print(\"*\", end='')\n",
    "        k += 1\n",
    "    print()\n",
    "    i -= 1\n"
   ]
  },
  {
   "cell_type": "code",
   "execution_count": 26,
   "id": "15ee820a",
   "metadata": {},
   "outputs": [
    {
     "name": "stdout",
     "output_type": "stream",
     "text": [
      "jawad\n",
      "10\n",
      "50\n",
      "6\n"
     ]
    }
   ],
   "source": [
    "class democlass:\n",
    "    a=10\n",
    "    def __init__(self):\n",
    "        print(\"jawad\")\n",
    "    def sumvalue(self):\n",
    "        print(20+30)\n",
    "    def showvalue(self,a,b):\n",
    "        print(a+b)\n",
    "jawad=democlass()\n",
    "print(democlass.a)\n",
    "jawad.sumvalue();\n",
    "jawad.showvalue(2,4)"
   ]
  },
  {
   "cell_type": "code",
   "execution_count": 18,
   "id": "ea317d19",
   "metadata": {},
   "outputs": [
    {
     "name": "stdout",
     "output_type": "stream",
     "text": [
      "10\n"
     ]
    }
   ],
   "source": [
    "class DemoClass:\n",
    "    a = 10\n",
    "\n",
    "# Create an instance of DemoClass\n",
    "jawad = DemoClass()\n",
    "\n",
    "# Print the class attribute 'a'\n",
    "print(DemoClass.a)\n"
   ]
  },
  {
   "cell_type": "code",
   "execution_count": 31,
   "id": "852c729f",
   "metadata": {},
   "outputs": [
    {
     "name": "stdout",
     "output_type": "stream",
     "text": [
      "hello qamar 2\n",
      "hello jawad 1\n"
     ]
    }
   ],
   "source": [
    "class jawadclassA:\n",
    "    def display1(self):\n",
    "        print(\"hello jawad 1\")\n",
    "class qamarclassB(jawadclassA):\n",
    "    super().displ\n",
    "    def display(self):\n",
    "        print(\"hello qamar 2\")\n",
    "obj=qamarclassB();\n",
    "obj.display();\n",
    "obj.display1();"
   ]
  },
  {
   "cell_type": "code",
   "execution_count": 32,
   "id": "77886624",
   "metadata": {},
   "outputs": [],
   "source": [
    "class jawadclassA:\n",
    "    def display1(self):\n",
    "        print(\"hello jawad 1\")\n",
    "class qamarclassB:\n",
    "    def display(self):\n",
    "        print()\n",
    "        \n",
    "        "
   ]
  },
  {
   "cell_type": "code",
   "execution_count": 35,
   "id": "2bfec4d8",
   "metadata": {},
   "outputs": [
    {
     "ename": "SyntaxError",
     "evalue": "invalid syntax (382201386.py, line 1)",
     "output_type": "error",
     "traceback": [
      "\u001b[1;36m  Cell \u001b[1;32mIn[35], line 1\u001b[1;36m\u001b[0m\n\u001b[1;33m    __init__(self, brand, model):\u001b[0m\n\u001b[1;37m                                ^\u001b[0m\n\u001b[1;31mSyntaxError\u001b[0m\u001b[1;31m:\u001b[0m invalid syntax\n"
     ]
    }
   ],
   "source": [
    "__init__(self, brand, model):\n",
    "    self.brand = brand\n",
    "    self.model = model\n",
    "\n",
    "    def move(self):\n",
    "    print(\"Drive!\")\n",
    "\n",
    "class Boat:\n",
    "    def __init__(self, brand, model):\n",
    "    self.brand = brand\n",
    "    self.model = model\n",
    "\n",
    "    def move(self):\n",
    "    print(\"Sail!\")\n",
    "\n",
    "class Plane:\n",
    "    def __init__(self, brand, model):\n",
    "    self.brand = brand\n",
    "    self.model = model\n",
    "\n",
    "    def move(self):\n",
    "    print(\"Fly!\")\n",
    "\n",
    "car1 = Car(\"Ford\", \"Mustang\")       #Create a Car class\n",
    "boat1 = Boat(\"Ibiza\", \"Touring 20\") #Create a Boat class\n",
    "plane1 = Plane(\"Boeing\", \"747\")     #Create a Plane class\n",
    "\n",
    "for x in (car1, boat1, plane1):\n",
    "  x.move()"
   ]
  },
  {
   "cell_type": "code",
   "execution_count": 37,
   "id": "43c316ab",
   "metadata": {},
   "outputs": [
    {
     "ename": "IndentationError",
     "evalue": "unindent does not match any outer indentation level (<tokenize>, line 5)",
     "output_type": "error",
     "traceback": [
      "\u001b[1;36m  File \u001b[1;32m<tokenize>:5\u001b[1;36m\u001b[0m\n\u001b[1;33m    def move(self):\u001b[0m\n\u001b[1;37m    ^\u001b[0m\n\u001b[1;31mIndentationError\u001b[0m\u001b[1;31m:\u001b[0m unindent does not match any outer indentation level\n"
     ]
    }
   ],
   "source": [
    "__init__(self, brand, model):\n",
    "    self.brand = brand\n",
    "    self.model = model\n",
    "\n",
    "  def move(self):\n",
    "    print(\"Drive!\")\n",
    "\n",
    "class Boat:\n",
    "  def __init__(self, brand, model):\n",
    "    self.brand = brand\n",
    "    self.model = model\n",
    "\n",
    "  def move(self):\n",
    "    print(\"Sail!\")\n",
    "\n",
    "class Plane:\n",
    "  def __init__(self, brand, model):\n",
    "    self.brand = brand\n",
    "    self.model = model\n",
    "\n",
    "  def move(self):\n",
    "    print(\"Fly!\")\n",
    "\n",
    "car1 = Car(\"Ford\", \"Mustang\")       #Create a Car class\n",
    "boat1 = Boat(\"Ibiza\", \"Touring 20\") #Create a Boat class\n",
    "plane1 = Plane(\"Boeing\", \"747\")     #Create a Plane class\n",
    "\n",
    "for x in (car1, boat1, plane1):\n",
    "  x.move()"
   ]
  },
  {
   "cell_type": "code",
   "execution_count": null,
   "id": "58bf85a7",
   "metadata": {},
   "outputs": [],
   "source": []
  }
 ],
 "metadata": {
  "kernelspec": {
   "display_name": "Python 3 (ipykernel)",
   "language": "python",
   "name": "python3"
  },
  "language_info": {
   "codemirror_mode": {
    "name": "ipython",
    "version": 3
   },
   "file_extension": ".py",
   "mimetype": "text/x-python",
   "name": "python",
   "nbconvert_exporter": "python",
   "pygments_lexer": "ipython3",
   "version": "3.11.3"
  }
 },
 "nbformat": 4,
 "nbformat_minor": 5
}
